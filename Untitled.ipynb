{
 "cells": [
  {
   "cell_type": "code",
   "execution_count": 8,
   "metadata": {},
   "outputs": [],
   "source": [
    "from PIL import Image\n",
    "import os, glob\n",
    "import numpy as np\n",
    "# from sklearn import cross_validation\n",
    "from sklearn import model_selection\n",
    "\n",
    "classes = [\"monkey\", \"boar\", \"crow\"]\n",
    "num_classes = len(classes)\n",
    "image_size = 50\n",
    "\n",
    "#\n",
    "\n",
    "X = []\n",
    "Y = []\n",
    "for index, classlabel in enumerate(classes):\n",
    "    photos_dir = \"./\" + classlabel\n",
    "    file = glob.glob(photos_dir + \"/*.jpg\")\n",
    "    for i, file in enumerate(file):\n",
    "        if i >= 140:\n",
    "            break\n",
    "        image = Image.open(file)\n",
    "        image = image.convert(\"RGB\")\n",
    "        image = image.resize((image_size, image_size))\n",
    "        data = np.asarray(image)\n",
    "        X.append(data)\n",
    "        Y.append(index)\n",
    "\n",
    "X = np.array(X)\n",
    "Y = np.array(Y)\n",
    "\n",
    "X_train, X_test, Y_train, Y_test = model_selection.train_test_split(X, Y)\n",
    "xy = (X_train, X_test, Y_train, Y_test)\n",
    "np.save(\"./animal.npy\", xy)\n"
   ]
  },
  {
   "cell_type": "code",
   "execution_count": 9,
   "metadata": {},
   "outputs": [
    {
     "data": {
      "text/plain": [
       "array([[[164, 158, 108],\n",
       "        [166, 154, 106],\n",
       "        [167, 150, 104],\n",
       "        ...,\n",
       "        [203, 175, 128],\n",
       "        [198, 171, 126],\n",
       "        [202, 175, 132]],\n",
       "\n",
       "       [[160, 152, 103],\n",
       "        [169, 157, 109],\n",
       "        [170, 153, 107],\n",
       "        ...,\n",
       "        [226, 197, 155],\n",
       "        [224, 195, 153],\n",
       "        [222, 193, 151]],\n",
       "\n",
       "       [[170, 160, 111],\n",
       "        [167, 153, 108],\n",
       "        [163, 144, 101],\n",
       "        ...,\n",
       "        [225, 196, 156],\n",
       "        [228, 199, 157],\n",
       "        [227, 198, 156]],\n",
       "\n",
       "       ...,\n",
       "\n",
       "       [[131,  97,  69],\n",
       "        [125,  94,  66],\n",
       "        [128,  96,  71],\n",
       "        ...,\n",
       "        [194, 194, 122],\n",
       "        [188, 187, 130],\n",
       "        [134, 131,  78]],\n",
       "\n",
       "       [[138, 103,  75],\n",
       "        [133,  99,  74],\n",
       "        [151, 116,  94],\n",
       "        ...,\n",
       "        [146, 148,  83],\n",
       "        [137, 132,  90],\n",
       "        [160, 138, 101]],\n",
       "\n",
       "       [[130,  95,  67],\n",
       "        [128,  94,  69],\n",
       "        [102,  70,  47],\n",
       "        ...,\n",
       "        [156, 161,  97],\n",
       "        [152, 137,  98],\n",
       "        [228, 195, 162]]], dtype=uint8)"
      ]
     },
     "execution_count": 9,
     "metadata": {},
     "output_type": "execute_result"
    }
   ],
   "source": [
    "X[0]"
   ]
  },
  {
   "cell_type": "code",
   "execution_count": 10,
   "metadata": {},
   "outputs": [
    {
     "data": {
      "text/plain": [
       "'./crow\\\\4716938246.jpg'"
      ]
     },
     "execution_count": 10,
     "metadata": {},
     "output_type": "execute_result"
    }
   ],
   "source": [
    "file"
   ]
  },
  {
   "cell_type": "code",
   "execution_count": 11,
   "metadata": {},
   "outputs": [
    {
     "ename": "SyntaxError",
     "evalue": "invalid syntax (<ipython-input-11-09d529fff121>, line 1)",
     "output_type": "error",
     "traceback": [
      "\u001b[1;36m  File \u001b[1;32m\"<ipython-input-11-09d529fff121>\"\u001b[1;36m, line \u001b[1;32m1\u001b[0m\n\u001b[1;33m    file[]\u001b[0m\n\u001b[1;37m         ^\u001b[0m\n\u001b[1;31mSyntaxError\u001b[0m\u001b[1;31m:\u001b[0m invalid syntax\n"
     ]
    }
   ],
   "source": [
    "file[]"
   ]
  },
  {
   "cell_type": "code",
   "execution_count": 12,
   "metadata": {},
   "outputs": [
    {
     "data": {
      "text/plain": [
       "'./crow\\\\4716938246.jpg'"
      ]
     },
     "execution_count": 12,
     "metadata": {},
     "output_type": "execute_result"
    }
   ],
   "source": [
    "file"
   ]
  },
  {
   "cell_type": "code",
   "execution_count": null,
   "metadata": {},
   "outputs": [],
   "source": []
  }
 ],
 "metadata": {
  "kernelspec": {
   "display_name": "Python 3",
   "language": "python",
   "name": "python3"
  },
  "language_info": {
   "codemirror_mode": {
    "name": "ipython",
    "version": 3
   },
   "file_extension": ".py",
   "mimetype": "text/x-python",
   "name": "python",
   "nbconvert_exporter": "python",
   "pygments_lexer": "ipython3",
   "version": "3.6.7"
  }
 },
 "nbformat": 4,
 "nbformat_minor": 2
}
